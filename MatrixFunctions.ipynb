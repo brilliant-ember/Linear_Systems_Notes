{
 "cells": [
  {
   "cell_type": "code",
   "execution_count": 2,
   "metadata": {},
   "outputs": [],
   "source": [
    "import sympy as sy"
   ]
  },
  {
   "cell_type": "code",
   "execution_count": 3,
   "metadata": {},
   "outputs": [],
   "source": [
    "# Matrix Functions\n",
    "\n",
    "def round_expr(expr, num_digits):\n",
    "    # https://www.thetopsites.net/article/54462201.shtml\n",
    "    return expr.xreplace({n : round(n, num_digits) for n in expr.atoms(sy.Number)})\n",
    "\n",
    "def matrix_info(matrix):\n",
    "    ''' displays the determenant, inverse and charactersitic funtion of a matrix'''\n",
    "    sMatrix = sy.Matrix(matrix)\n",
    "    # char func is det(A- (Lambda x I)) = 0\n",
    "    L = sy.symbols('L')\n",
    "    LI = L * sy.eye(sMatrix.shape[0])\n",
    "    charMatrix = sMatrix - LI\n",
    "    print(\"A - (Lamda x I): \")\n",
    "    display(charMatrix)\n",
    "    inverse = get_inverse(sMatrix)\n",
    "    display({\n",
    "        \"det\": sMatrix.det(),\n",
    "        \"inverse\":inverse,\n",
    "        \"charFunction\": sy.latex(charMatrix.det())\n",
    "    })\n",
    "    \n",
    "def get_eign(matrix):\n",
    "    '''displays eignvalues and vectors of a matrix'''\n",
    "    sMatrix = sy.Matrix(matrix)\n",
    "    sym_eignvals = list(sMatrix.eigenvals().keys())\n",
    "    sym_eignvects = []\n",
    "    for tup in sMatrix.eigenvects():\n",
    "        for v in tup[2]:\n",
    "            sym_eignvects.append(list(v))\n",
    "    display(\"Sympy eigenvalues: \", sym_eignvals)\n",
    "    display(\"Sympy eigenvectors: \", sym_eignvects)\n",
    "\n",
    "def get_inverse(m):\n",
    "    '''\n",
    "    Takes in a matrix t and returns the inverse assuming it exists, the inverse will have it's poles\n",
    "    seperated by a gaussian dividtion by the determinent\n",
    "    Params:\n",
    "        m (list or sympy.Matrix)\n",
    "    Returns:\n",
    "        (sympy.Matrix) Inverted matrix or None if matrix doesnt exist\n",
    "        \n",
    "    '''\n",
    "    m = sy.Matrix(m)\n",
    "    if sy.det(m)!=0:\n",
    "        m = m.inv()\n",
    "        m = m.applyfunc(lambda e: sy.factor(e, gaussian=True))\n",
    "    else:\n",
    "        print(\"Not invertable, det=0\")\n",
    "        return None\n",
    "    return m\n",
    "A = sy.Matrix([\n",
    "    [4, 0, 1],\n",
    "    [2, 3, 2],\n",
    "    [1, 0, 4]\n",
    "])\n",
    "def get_poles_from_matrix(a, show_steps = False):\n",
    "    '''Takes the A matrix of a system and returns the poles, format is {pole: multiplicity} can be used to determine stability'''\n",
    "    ss=sy.symbols('s')\n",
    "    char_mtx = ss*sy.eye(a.rows) - a\n",
    "    char_eq = char_mtx.det()\n",
    "    if show_steps:\n",
    "        display(char_mtx)\n",
    "        display(char_eq)\n",
    "    return(sy.roots(char_eq))"
   ]
  },
  {
   "cell_type": "code",
   "execution_count": 11,
   "metadata": {},
   "outputs": [],
   "source": [
    "# No unit testing done here, will do later."
   ]
  }
 ],
 "metadata": {
  "kernelspec": {
   "display_name": "Python 3",
   "language": "python",
   "name": "python3"
  },
  "language_info": {
   "codemirror_mode": {
    "name": "ipython",
    "version": 3
   },
   "file_extension": ".py",
   "mimetype": "text/x-python",
   "name": "python",
   "nbconvert_exporter": "python",
   "pygments_lexer": "ipython3",
   "version": "3.8.5"
  }
 },
 "nbformat": 4,
 "nbformat_minor": 4
}
